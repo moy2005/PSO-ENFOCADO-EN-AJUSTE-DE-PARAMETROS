{
 "cells": [
  {
   "cell_type": "markdown",
   "metadata": {},
   "source": [
    "# **PSO ENFOCADO EN AJUSTE DE PARAMETROS**\n",
    "- 20230033 MOISES RAMIREZ MARTINEZ"
   ]
  },
  {
   "cell_type": "code",
   "execution_count": 1,
   "metadata": {
    "colab": {
     "base_uri": "https://localhost:8080/"
    },
    "executionInfo": {
     "elapsed": 11605,
     "status": "ok",
     "timestamp": 1751239248214,
     "user": {
      "displayName": "usiel hernandez",
      "userId": "15545459715597023536"
     },
     "user_tz": 360
    },
    "id": "ys9AvTefTSY_",
    "outputId": "1ccb2b77-70a1-4c71-fdad-ec608a0b4a49"
   },
   "outputs": [],
   "source": [
    "# Importaciones\n",
    "import numpy as np\n",
    "import pandas as pd\n",
    "import os\n",
    "import xlsxwriter  # Para guardar archivos Excel\n",
    "import time\n",
    "from openpyxl.styles import PatternFill \n",
    "\n",
    "# Importar problemas CEC desde el repositorio\n",
    "from problemascec2010 import (\n",
    "    ProblemaC01, ProblemaC02, ProblemaC03, ProblemaC04, ProblemaC05,\n",
    "    ProblemaC06, ProblemaC07, ProblemaC08, ProblemaC09, ProblemaC10,\n",
    "    ProblemaC11, ProblemaC12, ProblemaC13, ProblemaC14, ProblemaC15,\n",
    "    ProblemaC16, ProblemaC17, ProblemaC18\n",
    ")\n"
   ]
  },
  {
   "cell_type": "markdown",
   "metadata": {
    "id": "5dscQqnPU6h9"
   },
   "source": [
    "# **Manejo de Limites: Reflection**"
   ]
  },
  {
   "cell_type": "code",
   "execution_count": 2,
   "metadata": {
    "id": "CTEEsfPWU18y"
   },
   "outputs": [],
   "source": [
    "def manejo_limite_reflection(individuo, lower_bounds, upper_bounds):\n",
    "    individuo = np.array(individuo)\n",
    "    lower_bounds = np.array(lower_bounds)\n",
    "    upper_bounds = np.array(upper_bounds)\n",
    "\n",
    "    r = upper_bounds - lower_bounds\n",
    "    valorNorm = (individuo - lower_bounds)\n",
    "\n",
    "    s = np.floor(valorNorm / r)\n",
    "    posicion_en_segmento = valorNorm - s * r\n",
    "\n",
    "    individuo_reflejado = np.zeros_like(individuo)\n",
    "\n",
    "    cond_par = (s % 2 == 0)\n",
    "\n",
    "    individuo_reflejado[cond_par] = lower_bounds[cond_par] + posicion_en_segmento[cond_par]\n",
    "\n",
    "    individuo_reflejado[~cond_par] = upper_bounds[~cond_par] - posicion_en_segmento[~cond_par]\n",
    "\n",
    "    return individuo_reflejado\n",
    "\n",
    "# Función que verifica si un individuo está dentro del espacio de búsqueda\n",
    "def es_valido(individuo, lower_bounds, upper_bounds):\n",
    "    return np.all((individuo >= lower_bounds) & (individuo <= upper_bounds))\n",
    "\n",
    "def corregir_individuo(individuo, velocidad, lower_bounds, upper_bounds):\n",
    "    if not es_valido(individuo, lower_bounds, upper_bounds):\n",
    "        return manejo_limite_reflection(individuo, lower_bounds, upper_bounds), velocidad\n",
    "    return individuo, velocidad\n"
   ]
  },
  {
   "cell_type": "markdown",
   "metadata": {
    "id": "RaWXuvvcVBwR"
   },
   "source": [
    "# **Manejo de Ajuste de Parametros**"
   ]
  },
  {
   "cell_type": "code",
   "execution_count": 3,
   "metadata": {
    "id": "OklOhwBiXud_"
   },
   "outputs": [],
   "source": [
    "# METODO PROPUESTO\n",
    "def constriccion_progresiva(gen, max_gen):\n",
    "    progreso = gen / max_gen\n",
    "    c1 = 2.5 - progreso * (2.5 - 1.0)\n",
    "    c2 = 0.5 + progreso * (2.0 - 0.5)\n",
    "    phi_inicial = 4.1\n",
    "    phi_incremento = 0.5\n",
    "    phi = phi_inicial + progreso * phi_incremento\n",
    "    raiz = np.sqrt(phi ** 2 - 4 * phi)\n",
    "    w = 2 / abs(2 - phi - raiz)\n",
    "    return w, c1, c2\n",
    "    \n",
    "# 2. Clerc\n",
    "def clerc(gen=None, max_gen=None):\n",
    "    c1 = c2 = 2.05\n",
    "    sumAceleracion = c1 + c2\n",
    "    x = 2 / abs(2 - sumAceleracion - np.sqrt(sumAceleracion**2 - 4 * sumAceleracion))\n",
    "    w = x\n",
    "    return w, c1, c2\n",
    "\n",
    "# 3. Sigmoid Decreasing Inertia Weight\n",
    "def sigmoide_decreciente(gen, max_gen):\n",
    "    w_start = 0.9\n",
    "    w_end = 0.4\n",
    "\n",
    "    # Cálculo de u conforme a la fórmula de la imagen\n",
    "    u = 10 ** (np.log10(max_gen) - 2)\n",
    "\n",
    "    # k = gen, n = 1 -> fórmula: (k - n * max_gen) = (gen - max_gen)\n",
    "    exponent = -u * (gen - max_gen)\n",
    "    w = (w_start - w_end) / (1 + np.exp(exponent)) + w_end\n",
    "\n",
    "    # Coeficientes constantes\n",
    "    c1 = 2.0\n",
    "    c2 = 2.0\n",
    "    return w, c1, c2\n",
    "\n",
    "# 4. Linear Decreasing Inertia Weight\n",
    "def lineal_decreciente(gen, max_gen):\n",
    "    w_max = 0.9\n",
    "    w_min = 0.4\n",
    "    w = w_max - ((w_max - w_min) / max_gen) * gen\n",
    "    c1 = 2.0\n",
    "    c2 = 2.0\n",
    "    return w, c1, c2"
   ]
  },
  {
   "cell_type": "markdown",
   "metadata": {
    "id": "16MtgjsOVIjX"
   },
   "source": [
    "# **Funciones de PSO**"
   ]
  },
  {
   "cell_type": "code",
   "execution_count": 4,
   "metadata": {
    "id": "EuPvnivbVNLE"
   },
   "outputs": [],
   "source": [
    "def generar_individuo_normal(D, lower, upper):\n",
    "    media = (lower + upper) / 2\n",
    "    sigma = (upper - lower) / 6\n",
    "    return np.random.normal(loc=media, scale=sigma, size=D)\n",
    "\n",
    "def generar_poblacion(tamano, D, lower_val, upper_val):\n",
    "    poblacion = np.array([generar_individuo_normal(D, lower_val, upper_val) for _ in range(tamano)])\n",
    "    return poblacion\n",
    "\n",
    "def generar_velocidades(tamano, D, lower_val, upper_val):\n",
    "    velocidades = np.array([generar_individuo_normal(D, lower_val, upper_val) for _ in range(tamano)])\n",
    "    return velocidades\n",
    "\n",
    "def actualizar_velocidad_individual(velocidad, posicion, pbest_pos, gbest_pos, w_inercia, c1_cognitivo, c2_social):\n",
    "    num_dims = len(posicion)\n",
    "    r1 = np.random.rand(num_dims)\n",
    "    r2 = np.random.rand(num_dims)\n",
    "    nueva_velocidad = (\n",
    "        w_inercia * velocidad +\n",
    "        c1_cognitivo * r1 * (pbest_pos - posicion) +\n",
    "        c2_social * r2 * (gbest_pos - posicion)\n",
    "    )\n",
    "    return nueva_velocidad\n",
    "\n",
    "def evaluar_poblacion(poblacion, evaluate_fn):\n",
    "    resultados = np.array([evaluate_fn(ind) for ind in poblacion])\n",
    "    fitness_array = resultados[:, 0]\n",
    "    violaciones_array = resultados[:, 1]\n",
    "    return fitness_array, violaciones_array\n",
    "\n",
    "def actualizar_todas_las_velocidades(posiciones, velocidades, pbest_pos, gbest_pos, w, c1, c2):\n",
    "    nuevas_velocidades = []\n",
    "    for vel, pos, pbest in zip(velocidades, posiciones, pbest_pos):\n",
    "        nueva_vel = actualizar_velocidad_individual(vel, pos, pbest, gbest_pos, w, c1, c2)\n",
    "        nuevas_velocidades.append(nueva_vel)\n",
    "    return np.array(nuevas_velocidades)\n",
    "\n",
    "def actualizar_todas_las_posiciones(posiciones, velocidades, lower_bounds, upper_bounds):\n",
    "    nuevas_posiciones = []\n",
    "    nuevas_velocidades = []\n",
    "    for pos, vel in zip(posiciones, velocidades):\n",
    "        nueva_pos = pos + vel\n",
    "        nueva_pos, nueva_vel = corregir_individuo(nueva_pos, vel, lower_bounds, upper_bounds)\n",
    "        nuevas_posiciones.append(nueva_pos)\n",
    "        nuevas_velocidades.append(nueva_vel)\n",
    "    return np.array(nuevas_posiciones), np.array(nuevas_velocidades)\n",
    "\n",
    "def actualizar_todos_los_pbest(posiciones, fitness_array, violaciones_array,\n",
    "                                pbest_pos, pbest_fit, pbest_viol):\n",
    "    for i in range(len(posiciones)):\n",
    "        pbest_pos[i], pbest_fit[i], pbest_viol[i] = actualizar_pbest_individual(\n",
    "            posiciones[i], fitness_array[i], violaciones_array[i],\n",
    "            pbest_pos[i], pbest_fit[i], pbest_viol[i]\n",
    "        )\n",
    "    return pbest_pos, pbest_fit, pbest_viol\n",
    "\n",
    "def asignar_gbest_deb(poblacion, fitness_array, viol_array):\n",
    "    ind_best = poblacion[0]\n",
    "    f_best   = fitness_array[0]\n",
    "    v_best   = viol_array[0]\n",
    "\n",
    "    for ind, f, v in zip(poblacion[1:], fitness_array[1:], viol_array[1:]):\n",
    "        ind_best, f_best, v_best = deb_selection(ind_best, f_best, v_best, ind, f, v)\n",
    "\n",
    "    return ind_best, f_best, v_best\n",
    "\n",
    "def actualizar_pbest_individual(posicion, fitness_valor, violation_valor, pbest_pos, pbest_fitness_valor, pbest_violation_valor):\n",
    "    _, selected_fitness, selected_violation = deb_selection(\n",
    "        posicion, fitness_valor, violation_valor, pbest_pos, pbest_fitness_valor, pbest_violation_valor\n",
    "    )\n",
    "    if selected_fitness == fitness_valor and selected_violation == violation_valor:\n",
    "        return posicion.copy(), fitness_valor, violation_valor\n",
    "    else:\n",
    "        return pbest_pos, pbest_fitness_valor, pbest_violation_valor\n"
   ]
  },
  {
   "cell_type": "markdown",
   "metadata": {},
   "source": [
    "# **Reglas de Deb**"
   ]
  },
  {
   "cell_type": "code",
   "execution_count": 5,
   "metadata": {},
   "outputs": [],
   "source": [
    "def deb_selection(ind1, f1, v1, ind2, f2, v2):\n",
    "    feas1 = (v1 <= 0)\n",
    "    feas2 = (v2 <= 0)\n",
    "    if feas1 and feas2:\n",
    "        if f1 < f2:\n",
    "            return ind1, f1, v1\n",
    "        else:\n",
    "            return ind2, f2, v2\n",
    "    elif feas1:\n",
    "        return ind1, f1, v1\n",
    "    elif feas2:\n",
    "        return ind2, f2, v2\n",
    "    elif v1 <= v2:\n",
    "        return ind1, f1, v1\n",
    "    else:\n",
    "        return ind2, f2, v2"
   ]
  },
  {
   "cell_type": "markdown",
   "metadata": {},
   "source": [
    "# **Problemas CEC2010**"
   ]
  },
  {
   "cell_type": "code",
   "execution_count": 6,
   "metadata": {
    "id": "wzMyp5Dt80Ha"
   },
   "outputs": [],
   "source": [
    "problems = {\n",
    "    'C01': ProblemaC01,\n",
    "    'C02': ProblemaC02,\n",
    "    'C03': ProblemaC03,\n",
    "    'C04': ProblemaC04,\n",
    "    'C05': ProblemaC05,\n",
    "    'C06': ProblemaC06,\n",
    "    'C07': ProblemaC07,\n",
    "    'C08': ProblemaC08,\n",
    "    'C09': ProblemaC09,\n",
    "    'C10': ProblemaC10,\n",
    "    'C11': ProblemaC11,\n",
    "    'C12': ProblemaC12,\n",
    "    'C13': ProblemaC13,\n",
    "    'C14': ProblemaC14,\n",
    "    'C15': ProblemaC15,\n",
    "    'C16': ProblemaC16,\n",
    "    'C17': ProblemaC17,\n",
    "    'C18': ProblemaC18\n",
    "}"
   ]
  },
  {
   "cell_type": "markdown",
   "metadata": {},
   "source": [
    "# **PARAMETROS**\n",
    "- TAMAÑO DE LA POBLACION\n",
    "- NUMERO DE GENERACIONES\n",
    "- NUMERO DE CORRIDAS\n",
    "- NUMERO DE DIMENSIONES(OFFSET) "
   ]
  },
  {
   "cell_type": "code",
   "execution_count": 7,
   "metadata": {
    "id": "p6TeMKEb83dS"
   },
   "outputs": [],
   "source": [
    "pso_params = {\n",
    "    'tamano_poblacion': 100,\n",
    "    'num_generaciones': 2000,\n",
    "    'num_corridas': 25,\n",
    "    # 10 Dimensiones o 30 Dimensiones en este caso\n",
    "    'offset':  np.array([\n",
    "        1.91, 4.86, 3.74, 3.06, 0.79, 0.79, 0.29, 4.43, 3.07, 3.62\n",
    "        #,0.58, 4.51, 2.13, 1.45, 3.23, 2.37, 0.69, 4.92, 1.98, 1.56,\n",
    "        #0.37, 4.77, 3.95, 1.11, 0.24, 2.78, 4.44, 2.65, 0.08, 5.10\n",
    "    ],dtype=float)\n",
    "}"
   ]
  },
  {
   "cell_type": "code",
   "execution_count": 8,
   "metadata": {
    "id": "6UuuvI8n85Uo"
   },
   "outputs": [],
   "source": [
    "ajuste_parametros = {\n",
    "    'Constriccion Progresiva': constriccion_progresiva,\n",
    "    'Clerc': clerc,\n",
    "    'Lineal Decreciente': lineal_decreciente,\n",
    "    'Sigmoide Decreciente':sigmoide_decreciente\n",
    "}"
   ]
  },
  {
   "cell_type": "markdown",
   "metadata": {},
   "source": [
    "# **EJECUCION DE PSO**"
   ]
  },
  {
   "cell_type": "code",
   "execution_count": 9,
   "metadata": {
    "id": "O-q2UtAA873Z"
   },
   "outputs": [],
   "source": [
    "def ejecutar_pso(tamano_poblacion, lower_bounds, upper_bounds, evaluate_fn, generaciones, funcion_limite, ajuste_parametros_func):\n",
    "    D = len(lower_bounds)\n",
    "\n",
    "    # Inicialización\n",
    "    posiciones = generar_poblacion(tamano_poblacion, D, lower_bounds, upper_bounds)\n",
    "    velocidades = generar_velocidades(tamano_poblacion, D, lower_bounds, upper_bounds)\n",
    "\n",
    "    fitness, violaciones = evaluar_poblacion(posiciones, evaluate_fn)\n",
    "\n",
    "    pbest_pos = posiciones.copy()\n",
    "    pbest_fit = fitness.copy()\n",
    "    pbest_viol = violaciones.copy()\n",
    "\n",
    "    gbest_pos, gbest_fit, gbest_viol = asignar_gbest_deb(pbest_pos, pbest_fit, pbest_viol)\n",
    "\n",
    "    mejores_por_generacion = []\n",
    "\n",
    "    for gen in range(1, generaciones + 1):\n",
    "        w, c1, c2 = ajuste_parametros_func(gen-1, generaciones)\n",
    "\n",
    "        # a) Actualizar velocidades\n",
    "        velocidades = actualizar_todas_las_velocidades(posiciones, velocidades, pbest_pos, gbest_pos, w, c1, c2)\n",
    "\n",
    "        # b) Actualizar posiciones\n",
    "        posiciones, velocidades = actualizar_todas_las_posiciones(posiciones, velocidades, lower_bounds, upper_bounds)\n",
    "\n",
    "        # c) Evaluar\n",
    "        fitness, violaciones = evaluar_poblacion(posiciones, evaluate_fn)\n",
    "\n",
    "        # d) Actualizar pbest\n",
    "        pbest_pos, pbest_fit, pbest_viol = actualizar_todos_los_pbest(posiciones, fitness, violaciones, pbest_pos, pbest_fit, pbest_viol)\n",
    "\n",
    "        # e) Actualizar gbest\n",
    "        gbest_pos, gbest_fit, gbest_viol = asignar_gbest_deb(pbest_pos, pbest_fit, pbest_viol)\n",
    "\n",
    "        # f) Guardar mejor de la generación\n",
    "        mejores_por_generacion.append({\n",
    "            'individuo': gbest_pos.copy(),\n",
    "            'fitness': gbest_fit,\n",
    "            'violation': gbest_viol,\n",
    "            'factible': gbest_viol <= 0\n",
    "        })\n",
    "\n",
    "    return mejores_por_generacion\n"
   ]
  },
  {
   "cell_type": "code",
   "execution_count": 10,
   "metadata": {
    "id": "Vfyv1DXq9EPc"
   },
   "outputs": [],
   "source": [
    "def ejecutar_combinaciones_PSO(\n",
    "    clases_problema,\n",
    "    nombres_problemas,\n",
    "    metodos_ajuste,\n",
    "    nombres_ajuste,\n",
    "    num_corridas,\n",
    "    tamano_poblacion,\n",
    "    offset,\n",
    "    funcion_limite,\n",
    "    generaciones\n",
    "):\n",
    "    for cls_prob, nombre_prob in zip(clases_problema, nombres_problemas):\n",
    "        problema = cls_prob(offset)\n",
    "        lower_bounds, upper_bounds = problema.get_limites()\n",
    "        evaluate_fn = problema.evaluate\n",
    "\n",
    "        archivo = f\"PSO_{nombre_prob}.xlsx\"\n",
    "        with pd.ExcelWriter(archivo, engine=\"openpyxl\") as writer:\n",
    "            for metodo_ajuste, nombre_ajuste in zip(metodos_ajuste, nombres_ajuste):\n",
    "                print(f\"\\n🔁 Problema = {nombre_prob} | Ajuste = {nombre_ajuste}\")\n",
    "\n",
    "                matriz = np.zeros((generaciones, num_corridas))\n",
    "                tiempos = []\n",
    "                factibles_final = []\n",
    "                violaciones_final = []\n",
    "\n",
    "                for j in range(num_corridas):\n",
    "                    inicio = time.time()\n",
    "                    resultados = ejecutar_pso(\n",
    "                        tamano_poblacion,\n",
    "                        lower_bounds,\n",
    "                        upper_bounds,\n",
    "                        evaluate_fn,\n",
    "                        generaciones,\n",
    "                        funcion_limite,\n",
    "                        metodo_ajuste\n",
    "                    )\n",
    "                    tiempos.append(round(time.time() - inicio, 2))\n",
    "                    matriz[:, j] = [r['fitness'] for r in resultados]\n",
    "                    factibles_final.append(resultados[-1]['factible'])\n",
    "                    violaciones_final.append(resultados[-1]['violation'])\n",
    "\n",
    "                # DataFrame\n",
    "                cols = [f\"Corrida {i+1}\" for i in range(num_corridas)]\n",
    "                df = pd.DataFrame(matriz, columns=cols)\n",
    "                df.insert(0, \"Generación\", np.arange(1, generaciones + 1))\n",
    "                df[\"Promedio\"] = df[cols].astype(float).mean(axis=1)\n",
    "\n",
    "                # Agregar filas extra\n",
    "                df.loc[len(df)] = [\"Violaciones\"] + violaciones_final + [\"\"]\n",
    "                df.loc[len(df)] = [\"Tiempo (s)\"] + tiempos + [\"\"]\n",
    "                df.loc[len(df)] = [\"Factibles\"] + [int(f) for f in factibles_final] + [\"\"]\n",
    "\n",
    "                sheet_name = nombre_ajuste[:31]\n",
    "                df.to_excel(writer, index=False, sheet_name=sheet_name)\n",
    "\n",
    "                # Colorear última gen factible\n",
    "                fila_ultima_gen = generaciones + 1\n",
    "                amarillo = PatternFill(start_color=\"FFFF00\", end_color=\"FFFF00\", fill_type=\"solid\")\n",
    "                for col_idx, fact in enumerate(factibles_final, start=2):\n",
    "                    if fact:\n",
    "                        writer.sheets[sheet_name].cell(row=fila_ultima_gen, column=col_idx).fill = amarillo\n",
    "\n",
    "        print(f\"\\n✅ Archivo guardado: {archivo}\")\n"
   ]
  },
  {
   "cell_type": "code",
   "execution_count": 11,
   "metadata": {
    "colab": {
     "base_uri": "https://localhost:8080/"
    },
    "id": "aW3dhRAl9G2O",
    "outputId": "2106b311-058e-44e0-fe3a-3f3fd8987a66"
   },
   "outputs": [
    {
     "name": "stdout",
     "output_type": "stream",
     "text": [
      "\n",
      "🔁 Problema = C01 | Ajuste = Constriccion Progresiva\n",
      "\n",
      "🔁 Problema = C01 | Ajuste = Clerc\n",
      "\n",
      "🔁 Problema = C01 | Ajuste = Lineal Decreciente\n",
      "\n",
      "🔁 Problema = C01 | Ajuste = Sigmoide Decreciente\n"
     ]
    },
    {
     "name": "stderr",
     "output_type": "stream",
     "text": [
      "C:\\Users\\moyra\\AppData\\Local\\Temp\\ipykernel_30216\\1264782672.py:24: RuntimeWarning: overflow encountered in exp\n",
      "  w = (w_start - w_end) / (1 + np.exp(-u * (gen - max_gen / 2))) + w_end\n"
     ]
    },
    {
     "name": "stdout",
     "output_type": "stream",
     "text": [
      "\n",
      "✅ Archivo guardado: PSO_C01.xlsx\n",
      "\n",
      "🔁 Problema = C02 | Ajuste = Constriccion Progresiva\n",
      "\n",
      "🔁 Problema = C02 | Ajuste = Clerc\n",
      "\n",
      "🔁 Problema = C02 | Ajuste = Lineal Decreciente\n",
      "\n",
      "🔁 Problema = C02 | Ajuste = Sigmoide Decreciente\n"
     ]
    },
    {
     "name": "stderr",
     "output_type": "stream",
     "text": [
      "C:\\Users\\moyra\\AppData\\Local\\Temp\\ipykernel_30216\\1264782672.py:24: RuntimeWarning: overflow encountered in exp\n",
      "  w = (w_start - w_end) / (1 + np.exp(-u * (gen - max_gen / 2))) + w_end\n"
     ]
    },
    {
     "name": "stdout",
     "output_type": "stream",
     "text": [
      "\n",
      "✅ Archivo guardado: PSO_C02.xlsx\n",
      "\n",
      "🔁 Problema = C03 | Ajuste = Constriccion Progresiva\n",
      "\n",
      "🔁 Problema = C03 | Ajuste = Clerc\n",
      "\n",
      "🔁 Problema = C03 | Ajuste = Lineal Decreciente\n",
      "\n",
      "🔁 Problema = C03 | Ajuste = Sigmoide Decreciente\n"
     ]
    },
    {
     "name": "stderr",
     "output_type": "stream",
     "text": [
      "C:\\Users\\moyra\\AppData\\Local\\Temp\\ipykernel_30216\\1264782672.py:24: RuntimeWarning: overflow encountered in exp\n",
      "  w = (w_start - w_end) / (1 + np.exp(-u * (gen - max_gen / 2))) + w_end\n"
     ]
    },
    {
     "name": "stdout",
     "output_type": "stream",
     "text": [
      "\n",
      "✅ Archivo guardado: PSO_C03.xlsx\n",
      "\n",
      "🔁 Problema = C04 | Ajuste = Constriccion Progresiva\n",
      "\n",
      "🔁 Problema = C04 | Ajuste = Clerc\n",
      "\n",
      "🔁 Problema = C04 | Ajuste = Lineal Decreciente\n",
      "\n",
      "🔁 Problema = C04 | Ajuste = Sigmoide Decreciente\n"
     ]
    },
    {
     "name": "stderr",
     "output_type": "stream",
     "text": [
      "C:\\Users\\moyra\\AppData\\Local\\Temp\\ipykernel_30216\\1264782672.py:24: RuntimeWarning: overflow encountered in exp\n",
      "  w = (w_start - w_end) / (1 + np.exp(-u * (gen - max_gen / 2))) + w_end\n"
     ]
    },
    {
     "name": "stdout",
     "output_type": "stream",
     "text": [
      "\n",
      "✅ Archivo guardado: PSO_C04.xlsx\n",
      "\n",
      "🔁 Problema = C05 | Ajuste = Constriccion Progresiva\n",
      "\n",
      "🔁 Problema = C05 | Ajuste = Clerc\n",
      "\n",
      "🔁 Problema = C05 | Ajuste = Lineal Decreciente\n",
      "\n",
      "🔁 Problema = C05 | Ajuste = Sigmoide Decreciente\n"
     ]
    },
    {
     "name": "stderr",
     "output_type": "stream",
     "text": [
      "C:\\Users\\moyra\\AppData\\Local\\Temp\\ipykernel_30216\\1264782672.py:24: RuntimeWarning: overflow encountered in exp\n",
      "  w = (w_start - w_end) / (1 + np.exp(-u * (gen - max_gen / 2))) + w_end\n"
     ]
    },
    {
     "name": "stdout",
     "output_type": "stream",
     "text": [
      "\n",
      "✅ Archivo guardado: PSO_C05.xlsx\n",
      "\n",
      "🔁 Problema = C06 | Ajuste = Constriccion Progresiva\n",
      "\n",
      "🔁 Problema = C06 | Ajuste = Clerc\n",
      "\n",
      "🔁 Problema = C06 | Ajuste = Lineal Decreciente\n",
      "\n",
      "🔁 Problema = C06 | Ajuste = Sigmoide Decreciente\n"
     ]
    },
    {
     "name": "stderr",
     "output_type": "stream",
     "text": [
      "C:\\Users\\moyra\\AppData\\Local\\Temp\\ipykernel_30216\\1264782672.py:24: RuntimeWarning: overflow encountered in exp\n",
      "  w = (w_start - w_end) / (1 + np.exp(-u * (gen - max_gen / 2))) + w_end\n"
     ]
    },
    {
     "name": "stdout",
     "output_type": "stream",
     "text": [
      "\n",
      "✅ Archivo guardado: PSO_C06.xlsx\n",
      "\n",
      "🔁 Problema = C07 | Ajuste = Constriccion Progresiva\n",
      "\n",
      "🔁 Problema = C07 | Ajuste = Clerc\n",
      "\n",
      "🔁 Problema = C07 | Ajuste = Lineal Decreciente\n",
      "\n",
      "🔁 Problema = C07 | Ajuste = Sigmoide Decreciente\n"
     ]
    },
    {
     "name": "stderr",
     "output_type": "stream",
     "text": [
      "C:\\Users\\moyra\\AppData\\Local\\Temp\\ipykernel_30216\\1264782672.py:24: RuntimeWarning: overflow encountered in exp\n",
      "  w = (w_start - w_end) / (1 + np.exp(-u * (gen - max_gen / 2))) + w_end\n"
     ]
    },
    {
     "name": "stdout",
     "output_type": "stream",
     "text": [
      "\n",
      "✅ Archivo guardado: PSO_C07.xlsx\n",
      "\n",
      "🔁 Problema = C08 | Ajuste = Constriccion Progresiva\n",
      "\n",
      "🔁 Problema = C08 | Ajuste = Clerc\n",
      "\n",
      "🔁 Problema = C08 | Ajuste = Lineal Decreciente\n",
      "\n",
      "🔁 Problema = C08 | Ajuste = Sigmoide Decreciente\n"
     ]
    },
    {
     "name": "stderr",
     "output_type": "stream",
     "text": [
      "C:\\Users\\moyra\\AppData\\Local\\Temp\\ipykernel_30216\\1264782672.py:24: RuntimeWarning: overflow encountered in exp\n",
      "  w = (w_start - w_end) / (1 + np.exp(-u * (gen - max_gen / 2))) + w_end\n"
     ]
    },
    {
     "name": "stdout",
     "output_type": "stream",
     "text": [
      "\n",
      "✅ Archivo guardado: PSO_C08.xlsx\n",
      "\n",
      "🔁 Problema = C09 | Ajuste = Constriccion Progresiva\n",
      "\n",
      "🔁 Problema = C09 | Ajuste = Clerc\n",
      "\n",
      "🔁 Problema = C09 | Ajuste = Lineal Decreciente\n",
      "\n",
      "🔁 Problema = C09 | Ajuste = Sigmoide Decreciente\n"
     ]
    },
    {
     "name": "stderr",
     "output_type": "stream",
     "text": [
      "C:\\Users\\moyra\\AppData\\Local\\Temp\\ipykernel_30216\\1264782672.py:24: RuntimeWarning: overflow encountered in exp\n",
      "  w = (w_start - w_end) / (1 + np.exp(-u * (gen - max_gen / 2))) + w_end\n"
     ]
    },
    {
     "name": "stdout",
     "output_type": "stream",
     "text": [
      "\n",
      "✅ Archivo guardado: PSO_C09.xlsx\n",
      "\n",
      "🔁 Problema = C10 | Ajuste = Constriccion Progresiva\n",
      "\n",
      "🔁 Problema = C10 | Ajuste = Clerc\n",
      "\n",
      "🔁 Problema = C10 | Ajuste = Lineal Decreciente\n",
      "\n",
      "🔁 Problema = C10 | Ajuste = Sigmoide Decreciente\n"
     ]
    },
    {
     "name": "stderr",
     "output_type": "stream",
     "text": [
      "C:\\Users\\moyra\\AppData\\Local\\Temp\\ipykernel_30216\\1264782672.py:24: RuntimeWarning: overflow encountered in exp\n",
      "  w = (w_start - w_end) / (1 + np.exp(-u * (gen - max_gen / 2))) + w_end\n"
     ]
    },
    {
     "name": "stdout",
     "output_type": "stream",
     "text": [
      "\n",
      "✅ Archivo guardado: PSO_C10.xlsx\n",
      "\n",
      "🔁 Problema = C11 | Ajuste = Constriccion Progresiva\n",
      "\n",
      "🔁 Problema = C11 | Ajuste = Clerc\n",
      "\n",
      "🔁 Problema = C11 | Ajuste = Lineal Decreciente\n",
      "\n",
      "🔁 Problema = C11 | Ajuste = Sigmoide Decreciente\n"
     ]
    },
    {
     "name": "stderr",
     "output_type": "stream",
     "text": [
      "C:\\Users\\moyra\\AppData\\Local\\Temp\\ipykernel_30216\\1264782672.py:24: RuntimeWarning: overflow encountered in exp\n",
      "  w = (w_start - w_end) / (1 + np.exp(-u * (gen - max_gen / 2))) + w_end\n"
     ]
    },
    {
     "name": "stdout",
     "output_type": "stream",
     "text": [
      "\n",
      "✅ Archivo guardado: PSO_C11.xlsx\n",
      "\n",
      "🔁 Problema = C12 | Ajuste = Constriccion Progresiva\n",
      "\n",
      "🔁 Problema = C12 | Ajuste = Clerc\n",
      "\n",
      "🔁 Problema = C12 | Ajuste = Lineal Decreciente\n",
      "\n",
      "🔁 Problema = C12 | Ajuste = Sigmoide Decreciente\n"
     ]
    },
    {
     "name": "stderr",
     "output_type": "stream",
     "text": [
      "C:\\Users\\moyra\\AppData\\Local\\Temp\\ipykernel_30216\\1264782672.py:24: RuntimeWarning: overflow encountered in exp\n",
      "  w = (w_start - w_end) / (1 + np.exp(-u * (gen - max_gen / 2))) + w_end\n"
     ]
    },
    {
     "name": "stdout",
     "output_type": "stream",
     "text": [
      "\n",
      "✅ Archivo guardado: PSO_C12.xlsx\n",
      "\n",
      "🔁 Problema = C13 | Ajuste = Constriccion Progresiva\n",
      "\n",
      "🔁 Problema = C13 | Ajuste = Clerc\n",
      "\n",
      "🔁 Problema = C13 | Ajuste = Lineal Decreciente\n",
      "\n",
      "🔁 Problema = C13 | Ajuste = Sigmoide Decreciente\n"
     ]
    },
    {
     "name": "stderr",
     "output_type": "stream",
     "text": [
      "C:\\Users\\moyra\\AppData\\Local\\Temp\\ipykernel_30216\\1264782672.py:24: RuntimeWarning: overflow encountered in exp\n",
      "  w = (w_start - w_end) / (1 + np.exp(-u * (gen - max_gen / 2))) + w_end\n"
     ]
    },
    {
     "name": "stdout",
     "output_type": "stream",
     "text": [
      "\n",
      "✅ Archivo guardado: PSO_C13.xlsx\n",
      "\n",
      "🔁 Problema = C14 | Ajuste = Constriccion Progresiva\n",
      "\n",
      "🔁 Problema = C14 | Ajuste = Clerc\n",
      "\n",
      "🔁 Problema = C14 | Ajuste = Lineal Decreciente\n",
      "\n",
      "🔁 Problema = C14 | Ajuste = Sigmoide Decreciente\n"
     ]
    },
    {
     "name": "stderr",
     "output_type": "stream",
     "text": [
      "C:\\Users\\moyra\\AppData\\Local\\Temp\\ipykernel_30216\\1264782672.py:24: RuntimeWarning: overflow encountered in exp\n",
      "  w = (w_start - w_end) / (1 + np.exp(-u * (gen - max_gen / 2))) + w_end\n"
     ]
    },
    {
     "name": "stdout",
     "output_type": "stream",
     "text": [
      "\n",
      "✅ Archivo guardado: PSO_C14.xlsx\n",
      "\n",
      "🔁 Problema = C15 | Ajuste = Constriccion Progresiva\n",
      "\n",
      "🔁 Problema = C15 | Ajuste = Clerc\n",
      "\n",
      "🔁 Problema = C15 | Ajuste = Lineal Decreciente\n",
      "\n",
      "🔁 Problema = C15 | Ajuste = Sigmoide Decreciente\n"
     ]
    },
    {
     "name": "stderr",
     "output_type": "stream",
     "text": [
      "C:\\Users\\moyra\\AppData\\Local\\Temp\\ipykernel_30216\\1264782672.py:24: RuntimeWarning: overflow encountered in exp\n",
      "  w = (w_start - w_end) / (1 + np.exp(-u * (gen - max_gen / 2))) + w_end\n"
     ]
    },
    {
     "name": "stdout",
     "output_type": "stream",
     "text": [
      "\n",
      "✅ Archivo guardado: PSO_C15.xlsx\n",
      "\n",
      "🔁 Problema = C16 | Ajuste = Constriccion Progresiva\n",
      "\n",
      "🔁 Problema = C16 | Ajuste = Clerc\n",
      "\n",
      "🔁 Problema = C16 | Ajuste = Lineal Decreciente\n",
      "\n",
      "🔁 Problema = C16 | Ajuste = Sigmoide Decreciente\n"
     ]
    },
    {
     "name": "stderr",
     "output_type": "stream",
     "text": [
      "C:\\Users\\moyra\\AppData\\Local\\Temp\\ipykernel_30216\\1264782672.py:24: RuntimeWarning: overflow encountered in exp\n",
      "  w = (w_start - w_end) / (1 + np.exp(-u * (gen - max_gen / 2))) + w_end\n"
     ]
    },
    {
     "name": "stdout",
     "output_type": "stream",
     "text": [
      "\n",
      "✅ Archivo guardado: PSO_C16.xlsx\n",
      "\n",
      "🔁 Problema = C17 | Ajuste = Constriccion Progresiva\n",
      "\n",
      "🔁 Problema = C17 | Ajuste = Clerc\n",
      "\n",
      "🔁 Problema = C17 | Ajuste = Lineal Decreciente\n",
      "\n",
      "🔁 Problema = C17 | Ajuste = Sigmoide Decreciente\n"
     ]
    },
    {
     "name": "stderr",
     "output_type": "stream",
     "text": [
      "C:\\Users\\moyra\\AppData\\Local\\Temp\\ipykernel_30216\\1264782672.py:24: RuntimeWarning: overflow encountered in exp\n",
      "  w = (w_start - w_end) / (1 + np.exp(-u * (gen - max_gen / 2))) + w_end\n"
     ]
    },
    {
     "name": "stdout",
     "output_type": "stream",
     "text": [
      "\n",
      "✅ Archivo guardado: PSO_C17.xlsx\n",
      "\n",
      "🔁 Problema = C18 | Ajuste = Constriccion Progresiva\n",
      "\n",
      "🔁 Problema = C18 | Ajuste = Clerc\n",
      "\n",
      "🔁 Problema = C18 | Ajuste = Lineal Decreciente\n",
      "\n",
      "🔁 Problema = C18 | Ajuste = Sigmoide Decreciente\n"
     ]
    },
    {
     "name": "stderr",
     "output_type": "stream",
     "text": [
      "C:\\Users\\moyra\\AppData\\Local\\Temp\\ipykernel_30216\\1264782672.py:24: RuntimeWarning: overflow encountered in exp\n",
      "  w = (w_start - w_end) / (1 + np.exp(-u * (gen - max_gen / 2))) + w_end\n"
     ]
    },
    {
     "name": "stdout",
     "output_type": "stream",
     "text": [
      "\n",
      "✅ Archivo guardado: PSO_C18.xlsx\n",
      "\n",
      "✅ Archivos guardados\n"
     ]
    }
   ],
   "source": [
    "\n",
    "metodos_ajuste = list(ajuste_parametros.values())\n",
    "nombres_ajuste = list(ajuste_parametros.keys())\n",
    "\n",
    "ejecutar_combinaciones_PSO(\n",
    "    clases_problema=list(problems.values()),\n",
    "    nombres_problemas=list(problems.keys()),\n",
    "    metodos_ajuste=metodos_ajuste,\n",
    "    nombres_ajuste=nombres_ajuste,\n",
    "    num_corridas=pso_params['num_corridas'],\n",
    "    tamano_poblacion=pso_params['tamano_poblacion'],\n",
    "    offset=pso_params['offset'],\n",
    "    funcion_limite=manejo_limite_reflection,\n",
    "    generaciones=pso_params['num_generaciones']\n",
    ")\n",
    "\n",
    "print(\"\\n✅ Archivos guardados\")\n"
   ]
  }
 ],
 "metadata": {
  "colab": {
   "provenance": [
    {
     "file_id": "1sKGD6PPwNiG5fojvA2BHLwJjJlAO45LZ",
     "timestamp": 1751240194435
    }
   ]
  },
  "kernelspec": {
   "display_name": "Python 3 (ipykernel)",
   "language": "python",
   "name": "python3"
  },
  "language_info": {
   "codemirror_mode": {
    "name": "ipython",
    "version": 3
   },
   "file_extension": ".py",
   "mimetype": "text/x-python",
   "name": "python",
   "nbconvert_exporter": "python",
   "pygments_lexer": "ipython3",
   "version": "3.10.11"
  }
 },
 "nbformat": 4,
 "nbformat_minor": 4
}
